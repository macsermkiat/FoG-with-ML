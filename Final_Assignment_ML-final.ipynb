{
 "cells": [
  {
   "cell_type": "code",
   "execution_count": 12,
   "metadata": {},
   "outputs": [],
   "source": [
    "import pandas as pd\n",
    "import numpy as np\n",
    "import matplotlib.pyplot as plt\n",
    "import os\n",
    "from sklearn.preprocessing import StandardScaler\n",
    "from sklearn.metrics import classification_report, confusion_matrix, accuracy_score\n",
    "from sklearn.model_selection import RandomizedSearchCV, GridSearchCV\n",
    "from sklearn.metrics import confusion_matrix, roc_curve ,roc_auc_score, auc"
   ]
  },
  {
   "cell_type": "code",
   "execution_count": 2,
   "metadata": {},
   "outputs": [],
   "source": [
    "def report(y_test,y_hat,y_prob):\n",
    "    print(classification_report(y_test,y_hat))\n",
    "    print(f' AUC {roc_auc_score(y_test,y_prob)}')"
   ]
  },
  {
   "cell_type": "code",
   "execution_count": 3,
   "metadata": {},
   "outputs": [],
   "source": [
    "PATH = '../dataset_fog_release/dataset/'"
   ]
  },
  {
   "cell_type": "code",
   "execution_count": 4,
   "metadata": {},
   "outputs": [],
   "source": [
    "df = pd.read_csv(PATH+'fog.csv')"
   ]
  },
  {
   "cell_type": "markdown",
   "metadata": {},
   "source": [
    "---------------"
   ]
  },
  {
   "cell_type": "markdown",
   "metadata": {},
   "source": [
    "Shift Annotate 1 timestep"
   ]
  },
  {
   "cell_type": "code",
   "execution_count": 5,
   "metadata": {},
   "outputs": [],
   "source": [
    "for i in range(1,11):\n",
    "    shift1 = df.loc[df['subjectID']==i]['Annotate'].shift(1).rename('Ann_1')\n",
    "    shift05s = df.loc[df['subjectID']==i]['Annotate'].shift(30).rename('Ann_05s')\n",
    "    shift1s = df.loc[df['subjectID']==i]['Annotate'].shift(60).rename('Ann_1s')\n",
    "    thigh_v1 = df.loc[df['subjectID']==i]['thigh_v'].shift(1).rename('thigh_v1')\n",
    "    thigh_v30 = df.loc[df['subjectID']==i]['thigh_v'].shift(30).rename('thigh_v30')\n",
    "    thigh_mean05s = thigh_v1.rolling(window=30).mean().rename('thigh_mean05s')\n",
    "    thigh_max05s = thigh_v1.rolling(window=30).max().rename('thigh_max05s')\n",
    "    thigh_min05s = thigh_v1.rolling(window=30).min().rename('thigh_min05s')\n",
    "    thigh_std05s = thigh_v1.rolling(window=30).std().rename('thigh_std05s')\n",
    "    thigh_mean1s = thigh_v1.rolling(window=60).mean().rename('thigh_mean1s')\n",
    "    trunk_hl1 = df.loc[df['subjectID']==i]['trunk_hl'].shift(1).rename('trunk_hl1')\n",
    "    trunk_hl30 = df.loc[df['subjectID']==i]['trunk_hl'].shift(30).rename('trunk_hl30')\n",
    "    trunk_mean05s = trunk_hl1.rolling(window=30).mean().rename('trunk_mean05s')\n",
    "    trunk_max05s = trunk_hl1.rolling(window=30).max().rename('trunk_max05s')\n",
    "    trunk_min05s = trunk_hl1.rolling(window=30).min().rename('trunk_min05s')\n",
    "    trunk_std05s = trunk_hl1.rolling(window=30).std().rename('trunk_std05s')\n",
    "    trunk_mean1s = trunk_hl1.rolling(window=60).mean().rename('trunk_mean1s')                                                                   \n",
    "    thigh_hf1 = df.loc[df['subjectID']==i]['thigh_hf'].shift(1).rename('thigh_hf1')\n",
    "    thigh_hf30 = df.loc[df['subjectID']==i]['thigh_hf'].shift(30).rename('thigh_hf30')\n",
    "    thighf_mean05s = thigh_hf1.rolling(window=30).mean().rename('thighf_mean05s')\n",
    "    thighf_min05s = thigh_hf1.rolling(window=30).min().rename('thighf_min05s')\n",
    "    thighf_max05s = thigh_hf1.rolling(window=30).max().rename('thighf_max05s')\n",
    "    thighf_std05s = thigh_hf1.rolling(window=30).std().rename('thighf_std05s')\n",
    "    thighf_mean1s = thigh_hf1.rolling(window=60).mean().rename('thighf_mean1s')                                                                   \n",
    "    combine = pd.concat([thigh_v1,thigh_v30,thigh_mean05s,thigh_max05s,thigh_min05s,thigh_std05s,thigh_mean1s,\n",
    "                         trunk_hl1,trunk_hl30,trunk_mean05s,trunk_max05s,trunk_min05s,trunk_std05s,trunk_mean1s,\n",
    "                         thigh_hf1,thigh_hf30,thighf_mean05s,thighf_max05s,thighf_min05s,thighf_std05s,thighf_mean1s,\n",
    "                         shift1,shift05s,shift1s], axis =1)\n",
    "    if i==1:\n",
    "        df_new = pd.concat([df.loc[df['subjectID']==i],combine],axis=1)\n",
    "    else:\n",
    "        df_new = pd.concat([df_new,pd.concat([df.loc[df['subjectID']==i],combine],axis=1)],axis=0)\n",
    "            "
   ]
  },
  {
   "cell_type": "code",
   "execution_count": 6,
   "metadata": {},
   "outputs": [
    {
     "data": {
      "text/html": [
       "<div>\n",
       "<style scoped>\n",
       "    .dataframe tbody tr th:only-of-type {\n",
       "        vertical-align: middle;\n",
       "    }\n",
       "\n",
       "    .dataframe tbody tr th {\n",
       "        vertical-align: top;\n",
       "    }\n",
       "\n",
       "    .dataframe thead th {\n",
       "        text-align: right;\n",
       "    }\n",
       "</style>\n",
       "<table border=\"1\" class=\"dataframe\">\n",
       "  <thead>\n",
       "    <tr style=\"text-align: right;\">\n",
       "      <th></th>\n",
       "      <th>subjectID</th>\n",
       "      <th>round</th>\n",
       "      <th>Time_ms</th>\n",
       "      <th>shank_hf</th>\n",
       "      <th>shank_v</th>\n",
       "      <th>shank_hl</th>\n",
       "      <th>thigh_hf</th>\n",
       "      <th>thigh_v</th>\n",
       "      <th>thigh_hl</th>\n",
       "      <th>trunk_hf</th>\n",
       "      <th>...</th>\n",
       "      <th>thigh_hf1</th>\n",
       "      <th>thigh_hf30</th>\n",
       "      <th>thighf_mean05s</th>\n",
       "      <th>thighf_max05s</th>\n",
       "      <th>thighf_min05s</th>\n",
       "      <th>thighf_std05s</th>\n",
       "      <th>thighf_mean1s</th>\n",
       "      <th>Ann_1</th>\n",
       "      <th>Ann_05s</th>\n",
       "      <th>Ann_1s</th>\n",
       "    </tr>\n",
       "  </thead>\n",
       "  <tbody>\n",
       "    <tr>\n",
       "      <th>542415</th>\n",
       "      <td>1</td>\n",
       "      <td>1</td>\n",
       "      <td>750000</td>\n",
       "      <td>-30</td>\n",
       "      <td>990</td>\n",
       "      <td>326</td>\n",
       "      <td>-45</td>\n",
       "      <td>972</td>\n",
       "      <td>181</td>\n",
       "      <td>-38</td>\n",
       "      <td>...</td>\n",
       "      <td>NaN</td>\n",
       "      <td>NaN</td>\n",
       "      <td>NaN</td>\n",
       "      <td>NaN</td>\n",
       "      <td>NaN</td>\n",
       "      <td>NaN</td>\n",
       "      <td>NaN</td>\n",
       "      <td>NaN</td>\n",
       "      <td>NaN</td>\n",
       "      <td>NaN</td>\n",
       "    </tr>\n",
       "    <tr>\n",
       "      <th>542416</th>\n",
       "      <td>1</td>\n",
       "      <td>1</td>\n",
       "      <td>750015</td>\n",
       "      <td>-30</td>\n",
       "      <td>1000</td>\n",
       "      <td>356</td>\n",
       "      <td>-18</td>\n",
       "      <td>981</td>\n",
       "      <td>212</td>\n",
       "      <td>-48</td>\n",
       "      <td>...</td>\n",
       "      <td>-45.0</td>\n",
       "      <td>NaN</td>\n",
       "      <td>NaN</td>\n",
       "      <td>NaN</td>\n",
       "      <td>NaN</td>\n",
       "      <td>NaN</td>\n",
       "      <td>NaN</td>\n",
       "      <td>1.0</td>\n",
       "      <td>NaN</td>\n",
       "      <td>NaN</td>\n",
       "    </tr>\n",
       "    <tr>\n",
       "      <th>542417</th>\n",
       "      <td>1</td>\n",
       "      <td>1</td>\n",
       "      <td>750031</td>\n",
       "      <td>-20</td>\n",
       "      <td>990</td>\n",
       "      <td>336</td>\n",
       "      <td>18</td>\n",
       "      <td>981</td>\n",
       "      <td>222</td>\n",
       "      <td>-38</td>\n",
       "      <td>...</td>\n",
       "      <td>-18.0</td>\n",
       "      <td>NaN</td>\n",
       "      <td>NaN</td>\n",
       "      <td>NaN</td>\n",
       "      <td>NaN</td>\n",
       "      <td>NaN</td>\n",
       "      <td>NaN</td>\n",
       "      <td>1.0</td>\n",
       "      <td>NaN</td>\n",
       "      <td>NaN</td>\n",
       "    </tr>\n",
       "    <tr>\n",
       "      <th>542418</th>\n",
       "      <td>1</td>\n",
       "      <td>1</td>\n",
       "      <td>750046</td>\n",
       "      <td>-20</td>\n",
       "      <td>1000</td>\n",
       "      <td>316</td>\n",
       "      <td>36</td>\n",
       "      <td>990</td>\n",
       "      <td>222</td>\n",
       "      <td>-19</td>\n",
       "      <td>...</td>\n",
       "      <td>18.0</td>\n",
       "      <td>NaN</td>\n",
       "      <td>NaN</td>\n",
       "      <td>NaN</td>\n",
       "      <td>NaN</td>\n",
       "      <td>NaN</td>\n",
       "      <td>NaN</td>\n",
       "      <td>1.0</td>\n",
       "      <td>NaN</td>\n",
       "      <td>NaN</td>\n",
       "    </tr>\n",
       "    <tr>\n",
       "      <th>542419</th>\n",
       "      <td>1</td>\n",
       "      <td>1</td>\n",
       "      <td>750062</td>\n",
       "      <td>0</td>\n",
       "      <td>990</td>\n",
       "      <td>316</td>\n",
       "      <td>36</td>\n",
       "      <td>990</td>\n",
       "      <td>212</td>\n",
       "      <td>-29</td>\n",
       "      <td>...</td>\n",
       "      <td>36.0</td>\n",
       "      <td>NaN</td>\n",
       "      <td>NaN</td>\n",
       "      <td>NaN</td>\n",
       "      <td>NaN</td>\n",
       "      <td>NaN</td>\n",
       "      <td>NaN</td>\n",
       "      <td>1.0</td>\n",
       "      <td>NaN</td>\n",
       "      <td>NaN</td>\n",
       "    </tr>\n",
       "  </tbody>\n",
       "</table>\n",
       "<p>5 rows × 37 columns</p>\n",
       "</div>"
      ],
      "text/plain": [
       "        subjectID  round  Time_ms  shank_hf  shank_v  shank_hl  thigh_hf  \\\n",
       "542415          1      1   750000       -30      990       326       -45   \n",
       "542416          1      1   750015       -30     1000       356       -18   \n",
       "542417          1      1   750031       -20      990       336        18   \n",
       "542418          1      1   750046       -20     1000       316        36   \n",
       "542419          1      1   750062         0      990       316        36   \n",
       "\n",
       "        thigh_v  thigh_hl  trunk_hf  ...  thigh_hf1  thigh_hf30  \\\n",
       "542415      972       181       -38  ...        NaN         NaN   \n",
       "542416      981       212       -48  ...      -45.0         NaN   \n",
       "542417      981       222       -38  ...      -18.0         NaN   \n",
       "542418      990       222       -19  ...       18.0         NaN   \n",
       "542419      990       212       -29  ...       36.0         NaN   \n",
       "\n",
       "        thighf_mean05s  thighf_max05s  thighf_min05s  thighf_std05s  \\\n",
       "542415             NaN            NaN            NaN            NaN   \n",
       "542416             NaN            NaN            NaN            NaN   \n",
       "542417             NaN            NaN            NaN            NaN   \n",
       "542418             NaN            NaN            NaN            NaN   \n",
       "542419             NaN            NaN            NaN            NaN   \n",
       "\n",
       "        thighf_mean1s  Ann_1  Ann_05s  Ann_1s  \n",
       "542415            NaN    NaN      NaN     NaN  \n",
       "542416            NaN    1.0      NaN     NaN  \n",
       "542417            NaN    1.0      NaN     NaN  \n",
       "542418            NaN    1.0      NaN     NaN  \n",
       "542419            NaN    1.0      NaN     NaN  \n",
       "\n",
       "[5 rows x 37 columns]"
      ]
     },
     "execution_count": 6,
     "metadata": {},
     "output_type": "execute_result"
    }
   ],
   "source": [
    "df_new.head()"
   ]
  },
  {
   "cell_type": "code",
   "execution_count": 7,
   "metadata": {},
   "outputs": [
    {
     "data": {
      "text/plain": [
       "(1140835, 37)"
      ]
     },
     "execution_count": 7,
     "metadata": {},
     "output_type": "execute_result"
    }
   ],
   "source": [
    "df_new.shape"
   ]
  },
  {
   "cell_type": "code",
   "execution_count": 8,
   "metadata": {},
   "outputs": [],
   "source": [
    "df_new.dropna(inplace=True)"
   ]
  },
  {
   "cell_type": "code",
   "execution_count": 9,
   "metadata": {},
   "outputs": [
    {
     "data": {
      "text/plain": [
       "Index(['subjectID', 'round', 'Time_ms', 'shank_hf', 'shank_v', 'shank_hl',\n",
       "       'thigh_hf', 'thigh_v', 'thigh_hl', 'trunk_hf', 'trunk_v', 'trunk_hl',\n",
       "       'Annotate', 'thigh_v1', 'thigh_v30', 'thigh_mean05s', 'thigh_max05s',\n",
       "       'thigh_min05s', 'thigh_std05s', 'thigh_mean1s', 'trunk_hl1',\n",
       "       'trunk_hl30', 'trunk_mean05s', 'trunk_max05s', 'trunk_min05s',\n",
       "       'trunk_std05s', 'trunk_mean1s', 'thigh_hf1', 'thigh_hf30',\n",
       "       'thighf_mean05s', 'thighf_max05s', 'thighf_min05s', 'thighf_std05s',\n",
       "       'thighf_mean1s', 'Ann_1', 'Ann_05s', 'Ann_1s'],\n",
       "      dtype='object')"
      ]
     },
     "execution_count": 9,
     "metadata": {},
     "output_type": "execute_result"
    }
   ],
   "source": [
    "df_new.columns"
   ]
  },
  {
   "cell_type": "markdown",
   "metadata": {},
   "source": [
    "ann = df_new['Annotate']\n",
    "df_new.drop(['Annotate'],axis=1 ,inplace=True)\n",
    "df_new.insert(len(df_new.columns),column='Ann',value=ann)"
   ]
  },
  {
   "cell_type": "code",
   "execution_count": 14,
   "metadata": {},
   "outputs": [
    {
     "data": {
      "text/plain": [
       "Index(['subjectID', 'round', 'Time_ms', 'shank_hf', 'shank_v', 'shank_hl',\n",
       "       'thigh_hf', 'thigh_v', 'thigh_hl', 'trunk_hf', 'trunk_v', 'trunk_hl',\n",
       "       'thigh_v1', 'thigh_v30', 'thigh_mean05s', 'thigh_max05s',\n",
       "       'thigh_min05s', 'thigh_std05s', 'thigh_mean1s', 'trunk_hl1',\n",
       "       'trunk_hl30', 'trunk_mean05s', 'trunk_max05s', 'trunk_min05s',\n",
       "       'trunk_std05s', 'trunk_mean1s', 'thigh_hf1', 'thigh_hf30',\n",
       "       'thighf_mean05s', 'thighf_max05s', 'thighf_min05s', 'thighf_std05s',\n",
       "       'thighf_mean1s', 'Ann_1', 'Ann_05s', 'Ann_1s', 'Ann'],\n",
       "      dtype='object')"
      ]
     },
     "execution_count": 14,
     "metadata": {},
     "output_type": "execute_result"
    }
   ],
   "source": [
    "df_new.columns"
   ]
  },
  {
   "cell_type": "code",
   "execution_count": 15,
   "metadata": {},
   "outputs": [],
   "source": [
    "df = df_new.copy()"
   ]
  },
  {
   "cell_type": "code",
   "execution_count": 16,
   "metadata": {},
   "outputs": [],
   "source": [
    "df.dropna(inplace=True)"
   ]
  },
  {
   "cell_type": "code",
   "execution_count": 17,
   "metadata": {},
   "outputs": [
    {
     "data": {
      "text/plain": [
       "(1140235, 37)"
      ]
     },
     "execution_count": 17,
     "metadata": {},
     "output_type": "execute_result"
    }
   ],
   "source": [
    "df.shape"
   ]
  },
  {
   "cell_type": "markdown",
   "metadata": {},
   "source": [
    "--------------------------------"
   ]
  },
  {
   "cell_type": "code",
   "execution_count": 18,
   "metadata": {},
   "outputs": [],
   "source": [
    "from sklearn.utils import random"
   ]
  },
  {
   "cell_type": "code",
   "execution_count": 19,
   "metadata": {},
   "outputs": [],
   "source": [
    "scaler = StandardScaler()"
   ]
  },
  {
   "cell_type": "code",
   "execution_count": 20,
   "metadata": {},
   "outputs": [],
   "source": [
    "#For Feature Engineering Data\n",
    "df.iloc[:,3:33] = scaler.fit_transform(X = df.iloc[:,3:33])"
   ]
  },
  {
   "cell_type": "code",
   "execution_count": 120,
   "metadata": {},
   "outputs": [
    {
     "name": "stderr",
     "output_type": "stream",
     "text": [
      "/Users/macbookpro/anaconda3/envs/ml/lib/python3.7/site-packages/ipykernel_launcher.py:2: FutureWarning: \n",
      "Passing list-likes to .loc or [] with any missing label will raise\n",
      "KeyError in the future, you can use .reindex() as an alternative.\n",
      "\n",
      "See the documentation here:\n",
      "https://pandas.pydata.org/pandas-docs/stable/indexing.html#deprecate-loc-reindex-listlike\n",
      "  \n"
     ]
    }
   ],
   "source": [
    "#Sample data\n",
    "df_sample = df.loc[random.sample_without_replacement(len(df),100000)]"
   ]
  },
  {
   "cell_type": "code",
   "execution_count": 83,
   "metadata": {},
   "outputs": [
    {
     "data": {
      "text/html": [
       "<div>\n",
       "<style scoped>\n",
       "    .dataframe tbody tr th:only-of-type {\n",
       "        vertical-align: middle;\n",
       "    }\n",
       "\n",
       "    .dataframe tbody tr th {\n",
       "        vertical-align: top;\n",
       "    }\n",
       "\n",
       "    .dataframe thead th {\n",
       "        text-align: right;\n",
       "    }\n",
       "</style>\n",
       "<table border=\"1\" class=\"dataframe\">\n",
       "  <thead>\n",
       "    <tr style=\"text-align: right;\">\n",
       "      <th></th>\n",
       "      <th>subjectID</th>\n",
       "      <th>round</th>\n",
       "      <th>Time_ms</th>\n",
       "      <th>shank_hf</th>\n",
       "      <th>shank_v</th>\n",
       "      <th>shank_hl</th>\n",
       "      <th>thigh_hf</th>\n",
       "      <th>thigh_v</th>\n",
       "      <th>thigh_hl</th>\n",
       "      <th>trunk_hf</th>\n",
       "      <th>...</th>\n",
       "      <th>thighf_mean2</th>\n",
       "      <th>thigh_hf2</th>\n",
       "      <th>thighf_mean3</th>\n",
       "      <th>thighf_mean05s</th>\n",
       "      <th>thighf_mean1s</th>\n",
       "      <th>Ann_1</th>\n",
       "      <th>Ann_2</th>\n",
       "      <th>Ann_05s</th>\n",
       "      <th>Ann_1s</th>\n",
       "      <th>Ann</th>\n",
       "    </tr>\n",
       "  </thead>\n",
       "  <tbody>\n",
       "    <tr>\n",
       "      <th>count</th>\n",
       "      <td>99948.000000</td>\n",
       "      <td>99948.000000</td>\n",
       "      <td>9.994800e+04</td>\n",
       "      <td>99948.000000</td>\n",
       "      <td>99948.000000</td>\n",
       "      <td>99948.000000</td>\n",
       "      <td>99948.000000</td>\n",
       "      <td>99948.000000</td>\n",
       "      <td>99948.000000</td>\n",
       "      <td>99948.000000</td>\n",
       "      <td>...</td>\n",
       "      <td>99948.000000</td>\n",
       "      <td>99948.000000</td>\n",
       "      <td>99948.000000</td>\n",
       "      <td>99948.000000</td>\n",
       "      <td>99948.000000</td>\n",
       "      <td>99948.000000</td>\n",
       "      <td>99948.000000</td>\n",
       "      <td>99948.000000</td>\n",
       "      <td>99948.000000</td>\n",
       "      <td>99948.000000</td>\n",
       "    </tr>\n",
       "    <tr>\n",
       "      <th>mean</th>\n",
       "      <td>5.423720</td>\n",
       "      <td>1.237604</td>\n",
       "      <td>1.297053e+06</td>\n",
       "      <td>-0.001101</td>\n",
       "      <td>0.001983</td>\n",
       "      <td>0.002593</td>\n",
       "      <td>0.000797</td>\n",
       "      <td>0.002446</td>\n",
       "      <td>0.002166</td>\n",
       "      <td>-0.003346</td>\n",
       "      <td>...</td>\n",
       "      <td>0.000934</td>\n",
       "      <td>0.003046</td>\n",
       "      <td>0.002050</td>\n",
       "      <td>0.001437</td>\n",
       "      <td>0.001608</td>\n",
       "      <td>1.098981</td>\n",
       "      <td>1.099072</td>\n",
       "      <td>1.099252</td>\n",
       "      <td>1.098471</td>\n",
       "      <td>1.098991</td>\n",
       "    </tr>\n",
       "    <tr>\n",
       "      <th>std</th>\n",
       "      <td>2.888594</td>\n",
       "      <td>0.467172</td>\n",
       "      <td>6.409685e+05</td>\n",
       "      <td>1.065190</td>\n",
       "      <td>1.031688</td>\n",
       "      <td>1.064312</td>\n",
       "      <td>1.006461</td>\n",
       "      <td>1.012060</td>\n",
       "      <td>1.027888</td>\n",
       "      <td>0.992931</td>\n",
       "      <td>...</td>\n",
       "      <td>1.002233</td>\n",
       "      <td>1.007209</td>\n",
       "      <td>1.004996</td>\n",
       "      <td>0.996178</td>\n",
       "      <td>0.996410</td>\n",
       "      <td>0.298639</td>\n",
       "      <td>0.298760</td>\n",
       "      <td>0.299001</td>\n",
       "      <td>0.297952</td>\n",
       "      <td>0.298652</td>\n",
       "    </tr>\n",
       "    <tr>\n",
       "      <th>min</th>\n",
       "      <td>1.000000</td>\n",
       "      <td>1.000000</td>\n",
       "      <td>1.850150e+05</td>\n",
       "      <td>-48.834675</td>\n",
       "      <td>-91.733310</td>\n",
       "      <td>-75.767497</td>\n",
       "      <td>-11.762412</td>\n",
       "      <td>-62.013743</td>\n",
       "      <td>-75.689217</td>\n",
       "      <td>-13.534847</td>\n",
       "      <td>...</td>\n",
       "      <td>-7.759080</td>\n",
       "      <td>-8.386874</td>\n",
       "      <td>-6.105141</td>\n",
       "      <td>-3.929279</td>\n",
       "      <td>-3.130807</td>\n",
       "      <td>1.000000</td>\n",
       "      <td>1.000000</td>\n",
       "      <td>1.000000</td>\n",
       "      <td>1.000000</td>\n",
       "      <td>1.000000</td>\n",
       "    </tr>\n",
       "    <tr>\n",
       "      <th>25%</th>\n",
       "      <td>3.000000</td>\n",
       "      <td>1.000000</td>\n",
       "      <td>7.882182e+05</td>\n",
       "      <td>-0.357577</td>\n",
       "      <td>-0.236898</td>\n",
       "      <td>-0.295013</td>\n",
       "      <td>-0.526778</td>\n",
       "      <td>-0.833338</td>\n",
       "      <td>-0.463915</td>\n",
       "      <td>-0.604640</td>\n",
       "      <td>...</td>\n",
       "      <td>-0.526781</td>\n",
       "      <td>-0.526782</td>\n",
       "      <td>-0.541689</td>\n",
       "      <td>-0.433745</td>\n",
       "      <td>-0.402769</td>\n",
       "      <td>1.000000</td>\n",
       "      <td>1.000000</td>\n",
       "      <td>1.000000</td>\n",
       "      <td>1.000000</td>\n",
       "      <td>1.000000</td>\n",
       "    </tr>\n",
       "    <tr>\n",
       "      <th>50%</th>\n",
       "      <td>5.000000</td>\n",
       "      <td>1.000000</td>\n",
       "      <td>1.178781e+06</td>\n",
       "      <td>0.047965</td>\n",
       "      <td>-0.018957</td>\n",
       "      <td>-0.017575</td>\n",
       "      <td>-0.044039</td>\n",
       "      <td>0.426907</td>\n",
       "      <td>-0.020400</td>\n",
       "      <td>-0.084857</td>\n",
       "      <td>...</td>\n",
       "      <td>-0.044038</td>\n",
       "      <td>-0.044036</td>\n",
       "      <td>-0.045359</td>\n",
       "      <td>-0.061856</td>\n",
       "      <td>-0.062960</td>\n",
       "      <td>1.000000</td>\n",
       "      <td>1.000000</td>\n",
       "      <td>1.000000</td>\n",
       "      <td>1.000000</td>\n",
       "      <td>1.000000</td>\n",
       "    </tr>\n",
       "    <tr>\n",
       "      <th>75%</th>\n",
       "      <td>8.000000</td>\n",
       "      <td>1.000000</td>\n",
       "      <td>1.770492e+06</td>\n",
       "      <td>0.380405</td>\n",
       "      <td>0.116221</td>\n",
       "      <td>0.322209</td>\n",
       "      <td>0.534188</td>\n",
       "      <td>0.579334</td>\n",
       "      <td>0.459769</td>\n",
       "      <td>0.588385</td>\n",
       "      <td>...</td>\n",
       "      <td>0.534193</td>\n",
       "      <td>0.534198</td>\n",
       "      <td>0.532934</td>\n",
       "      <td>0.330767</td>\n",
       "      <td>0.299496</td>\n",
       "      <td>1.000000</td>\n",
       "      <td>1.000000</td>\n",
       "      <td>1.000000</td>\n",
       "      <td>1.000000</td>\n",
       "      <td>1.000000</td>\n",
       "    </tr>\n",
       "    <tr>\n",
       "      <th>max</th>\n",
       "      <td>10.000000</td>\n",
       "      <td>3.000000</td>\n",
       "      <td>2.929671e+06</td>\n",
       "      <td>39.498702</td>\n",
       "      <td>59.586407</td>\n",
       "      <td>78.251111</td>\n",
       "      <td>39.959698</td>\n",
       "      <td>50.929253</td>\n",
       "      <td>6.753286</td>\n",
       "      <td>7.701979</td>\n",
       "      <td>...</td>\n",
       "      <td>39.959951</td>\n",
       "      <td>39.960209</td>\n",
       "      <td>41.160064</td>\n",
       "      <td>13.727578</td>\n",
       "      <td>8.668000</td>\n",
       "      <td>2.000000</td>\n",
       "      <td>2.000000</td>\n",
       "      <td>2.000000</td>\n",
       "      <td>2.000000</td>\n",
       "      <td>2.000000</td>\n",
       "    </tr>\n",
       "  </tbody>\n",
       "</table>\n",
       "<p>8 rows × 35 columns</p>\n",
       "</div>"
      ],
      "text/plain": [
       "          subjectID         round       Time_ms      shank_hf       shank_v  \\\n",
       "count  99948.000000  99948.000000  9.994800e+04  99948.000000  99948.000000   \n",
       "mean       5.423720      1.237604  1.297053e+06     -0.001101      0.001983   \n",
       "std        2.888594      0.467172  6.409685e+05      1.065190      1.031688   \n",
       "min        1.000000      1.000000  1.850150e+05    -48.834675    -91.733310   \n",
       "25%        3.000000      1.000000  7.882182e+05     -0.357577     -0.236898   \n",
       "50%        5.000000      1.000000  1.178781e+06      0.047965     -0.018957   \n",
       "75%        8.000000      1.000000  1.770492e+06      0.380405      0.116221   \n",
       "max       10.000000      3.000000  2.929671e+06     39.498702     59.586407   \n",
       "\n",
       "           shank_hl      thigh_hf       thigh_v      thigh_hl      trunk_hf  \\\n",
       "count  99948.000000  99948.000000  99948.000000  99948.000000  99948.000000   \n",
       "mean       0.002593      0.000797      0.002446      0.002166     -0.003346   \n",
       "std        1.064312      1.006461      1.012060      1.027888      0.992931   \n",
       "min      -75.767497    -11.762412    -62.013743    -75.689217    -13.534847   \n",
       "25%       -0.295013     -0.526778     -0.833338     -0.463915     -0.604640   \n",
       "50%       -0.017575     -0.044039      0.426907     -0.020400     -0.084857   \n",
       "75%        0.322209      0.534188      0.579334      0.459769      0.588385   \n",
       "max       78.251111     39.959698     50.929253      6.753286      7.701979   \n",
       "\n",
       "       ...  thighf_mean2     thigh_hf2  thighf_mean3  thighf_mean05s  \\\n",
       "count  ...  99948.000000  99948.000000  99948.000000    99948.000000   \n",
       "mean   ...      0.000934      0.003046      0.002050        0.001437   \n",
       "std    ...      1.002233      1.007209      1.004996        0.996178   \n",
       "min    ...     -7.759080     -8.386874     -6.105141       -3.929279   \n",
       "25%    ...     -0.526781     -0.526782     -0.541689       -0.433745   \n",
       "50%    ...     -0.044038     -0.044036     -0.045359       -0.061856   \n",
       "75%    ...      0.534193      0.534198      0.532934        0.330767   \n",
       "max    ...     39.959951     39.960209     41.160064       13.727578   \n",
       "\n",
       "       thighf_mean1s         Ann_1         Ann_2       Ann_05s        Ann_1s  \\\n",
       "count   99948.000000  99948.000000  99948.000000  99948.000000  99948.000000   \n",
       "mean        0.001608      1.098981      1.099072      1.099252      1.098471   \n",
       "std         0.996410      0.298639      0.298760      0.299001      0.297952   \n",
       "min        -3.130807      1.000000      1.000000      1.000000      1.000000   \n",
       "25%        -0.402769      1.000000      1.000000      1.000000      1.000000   \n",
       "50%        -0.062960      1.000000      1.000000      1.000000      1.000000   \n",
       "75%         0.299496      1.000000      1.000000      1.000000      1.000000   \n",
       "max         8.668000      2.000000      2.000000      2.000000      2.000000   \n",
       "\n",
       "                Ann  \n",
       "count  99948.000000  \n",
       "mean       1.098991  \n",
       "std        0.298652  \n",
       "min        1.000000  \n",
       "25%        1.000000  \n",
       "50%        1.000000  \n",
       "75%        1.000000  \n",
       "max        2.000000  \n",
       "\n",
       "[8 rows x 35 columns]"
      ]
     },
     "execution_count": 83,
     "metadata": {},
     "output_type": "execute_result"
    }
   ],
   "source": [
    "df_sample.describe()"
   ]
  },
  {
   "cell_type": "code",
   "execution_count": 121,
   "metadata": {},
   "outputs": [],
   "source": [
    "df_sample.dropna(inplace=True)"
   ]
  },
  {
   "cell_type": "code",
   "execution_count": 22,
   "metadata": {},
   "outputs": [],
   "source": [
    "y = df['Ann_1'].values"
   ]
  },
  {
   "cell_type": "code",
   "execution_count": 23,
   "metadata": {},
   "outputs": [],
   "source": [
    "#For Feature Engineering data\n",
    "X = df.iloc[:,3:33].values"
   ]
  },
  {
   "cell_type": "code",
   "execution_count": 24,
   "metadata": {},
   "outputs": [],
   "source": [
    "from sklearn.model_selection import train_test_split\n",
    "from sklearn.model_selection import train_test_split\n",
    "X_train, X_test, y_train, y_test = train_test_split(X, y, test_size=0.20, random_state=0, stratify=y)"
   ]
  },
  {
   "cell_type": "markdown",
   "metadata": {},
   "source": [
    "## Model"
   ]
  },
  {
   "cell_type": "markdown",
   "metadata": {},
   "source": [
    "## Rf"
   ]
  },
  {
   "cell_type": "code",
   "execution_count": 25,
   "metadata": {},
   "outputs": [],
   "source": [
    "from sklearn.ensemble import RandomForestClassifier"
   ]
  },
  {
   "cell_type": "code",
   "execution_count": 26,
   "metadata": {},
   "outputs": [
    {
     "data": {
      "text/plain": [
       "Index(['subjectID', 'round', 'Time_ms', 'shank_hf', 'shank_v', 'shank_hl',\n",
       "       'thigh_hf', 'thigh_v', 'thigh_hl', 'trunk_hf', 'trunk_v', 'trunk_hl',\n",
       "       'thigh_v1', 'thigh_v30', 'thigh_mean05s', 'thigh_max05s',\n",
       "       'thigh_min05s', 'thigh_std05s', 'thigh_mean1s', 'trunk_hl1',\n",
       "       'trunk_hl30', 'trunk_mean05s', 'trunk_max05s', 'trunk_min05s',\n",
       "       'trunk_std05s', 'trunk_mean1s', 'thigh_hf1', 'thigh_hf30',\n",
       "       'thighf_mean05s', 'thighf_max05s', 'thighf_min05s', 'thighf_std05s',\n",
       "       'thighf_mean1s', 'Ann_1', 'Ann_05s', 'Ann_1s', 'Ann'],\n",
       "      dtype='object')"
      ]
     },
     "execution_count": 26,
     "metadata": {},
     "output_type": "execute_result"
    }
   ],
   "source": [
    "df.columns"
   ]
  },
  {
   "cell_type": "code",
   "execution_count": null,
   "metadata": {},
   "outputs": [],
   "source": []
  },
  {
   "cell_type": "code",
   "execution_count": 27,
   "metadata": {},
   "outputs": [
    {
     "data": {
      "text/plain": [
       "0.9809425250058103"
      ]
     },
     "execution_count": 27,
     "metadata": {},
     "output_type": "execute_result"
    }
   ],
   "source": [
    "m = RandomForestClassifier(n_estimators=40, min_samples_leaf=3, max_features=0.5, n_jobs=-1, class_weight=\"balanced\", oob_score=True)\n",
    "m.fit(X_train, y_train)\n",
    "m.score(X_test,y_test)"
   ]
  },
  {
   "cell_type": "code",
   "execution_count": 28,
   "metadata": {},
   "outputs": [],
   "source": [
    "y_hat = m.predict(X_test)"
   ]
  },
  {
   "cell_type": "code",
   "execution_count": 37,
   "metadata": {},
   "outputs": [],
   "source": [
    "y_prob = m.predict_proba(X_test)[:,1]"
   ]
  },
  {
   "cell_type": "code",
   "execution_count": 39,
   "metadata": {},
   "outputs": [
    {
     "data": {
      "text/plain": [
       "array([[204495,   1395],\n",
       "       [  2951,  19206]])"
      ]
     },
     "execution_count": 39,
     "metadata": {},
     "output_type": "execute_result"
    }
   ],
   "source": [
    "confusion_matrix(y_test,y_hat, labels=[1,2])"
   ]
  },
  {
   "cell_type": "code",
   "execution_count": 40,
   "metadata": {},
   "outputs": [
    {
     "name": "stdout",
     "output_type": "stream",
     "text": [
      "              precision    recall  f1-score   support\n",
      "\n",
      "         1.0       0.99      0.99      0.99    205890\n",
      "         2.0       0.93      0.87      0.90     22157\n",
      "\n",
      "    accuracy                           0.98    228047\n",
      "   macro avg       0.96      0.93      0.94    228047\n",
      "weighted avg       0.98      0.98      0.98    228047\n",
      "\n",
      " AUC 0.995880182925258\n"
     ]
    }
   ],
   "source": [
    "report(y_test,y_hat,y_prob)"
   ]
  },
  {
   "cell_type": "code",
   "execution_count": 41,
   "metadata": {},
   "outputs": [
    {
     "data": {
      "text/plain": [
       "0.9772130306471911"
      ]
     },
     "execution_count": 41,
     "metadata": {},
     "output_type": "execute_result"
    }
   ],
   "source": [
    "m.oob_score_"
   ]
  },
  {
   "cell_type": "code",
   "execution_count": 42,
   "metadata": {},
   "outputs": [
    {
     "data": {
      "text/plain": [
       "0.9821703420786067"
      ]
     },
     "execution_count": 42,
     "metadata": {},
     "output_type": "execute_result"
    }
   ],
   "source": [
    "m = RandomForestClassifier(n_estimators=120, min_samples_leaf=3, max_features=0.4, n_jobs=-1, class_weight={1:1,2:5}, oob_score=True)\n",
    "m.fit(X_train, y_train)\n",
    "m.score(X_test,y_test)"
   ]
  },
  {
   "cell_type": "code",
   "execution_count": 43,
   "metadata": {},
   "outputs": [],
   "source": [
    "y_hat = m.predict(X_test)"
   ]
  },
  {
   "cell_type": "code",
   "execution_count": 44,
   "metadata": {},
   "outputs": [],
   "source": [
    "y_prob = m.predict_proba(X_test)[:,1]"
   ]
  },
  {
   "cell_type": "code",
   "execution_count": 45,
   "metadata": {},
   "outputs": [
    {
     "data": {
      "text/plain": [
       "0.9815575298074519"
      ]
     },
     "execution_count": 45,
     "metadata": {},
     "output_type": "execute_result"
    }
   ],
   "source": [
    "m.oob_score_"
   ]
  },
  {
   "cell_type": "code",
   "execution_count": 46,
   "metadata": {},
   "outputs": [
    {
     "name": "stdout",
     "output_type": "stream",
     "text": [
      "              precision    recall  f1-score   support\n",
      "\n",
      "         1.0       0.99      1.00      0.99    205890\n",
      "         2.0       0.95      0.86      0.90     22157\n",
      "\n",
      "    accuracy                           0.98    228047\n",
      "   macro avg       0.97      0.93      0.95    228047\n",
      "weighted avg       0.98      0.98      0.98    228047\n",
      "\n",
      " AUC 0.996811468813817\n"
     ]
    }
   ],
   "source": [
    "report(y_test,y_hat,y_prob)"
   ]
  },
  {
   "cell_type": "code",
   "execution_count": 47,
   "metadata": {},
   "outputs": [
    {
     "data": {
      "text/plain": [
       "array([[204881,   1009],\n",
       "       [  3057,  19100]])"
      ]
     },
     "execution_count": 47,
     "metadata": {},
     "output_type": "execute_result"
    }
   ],
   "source": [
    "confusion_matrix(y_test,y_hat, labels=[1,2])"
   ]
  },
  {
   "cell_type": "code",
   "execution_count": null,
   "metadata": {},
   "outputs": [],
   "source": []
  },
  {
   "cell_type": "markdown",
   "metadata": {},
   "source": [
    "Features Importance"
   ]
  },
  {
   "cell_type": "code",
   "execution_count": 48,
   "metadata": {},
   "outputs": [],
   "source": [
    "importances = RandomForestClassifier.feature_importances_"
   ]
  },
  {
   "cell_type": "code",
   "execution_count": 49,
   "metadata": {},
   "outputs": [],
   "source": [
    "std = np.std([tree.feature_importances_ for tree in m.estimators_],\n",
    "             axis=0)"
   ]
  },
  {
   "cell_type": "code",
   "execution_count": 50,
   "metadata": {},
   "outputs": [
    {
     "data": {
      "text/plain": [
       "array([0.00509444, 0.00219571, 0.00318068, 0.00224224, 0.00112476,\n",
       "       0.00189133, 0.00273599, 0.00104467, 0.00207663, 0.01425188,\n",
       "       0.01431548, 0.050416  , 0.06844871, 0.00877731, 0.07409557,\n",
       "       0.05650757, 0.00096648, 0.00216354, 0.01595921, 0.00648982,\n",
       "       0.00403575, 0.02966417, 0.01855244, 0.00230355, 0.00163115,\n",
       "       0.00504291, 0.00537978, 0.00727204, 0.09323486, 0.00521173])"
      ]
     },
     "execution_count": 50,
     "metadata": {},
     "output_type": "execute_result"
    }
   ],
   "source": [
    "std"
   ]
  },
  {
   "cell_type": "code",
   "execution_count": 51,
   "metadata": {},
   "outputs": [
    {
     "name": "stdout",
     "output_type": "stream",
     "text": [
      "Feature ranking:\n",
      "1 feature 28 0.09323485731444056\n",
      "2 feature 14 0.07409557152132512\n",
      "3 feature 12 0.06844871238058177\n",
      "4 feature 15 0.05650756810206571\n",
      "5 feature 11 0.05041600147081336\n",
      "6 feature 21 0.029664172817369203\n",
      "7 feature 22 0.018552443145462987\n",
      "8 feature 18 0.01595921211529169\n",
      "9 feature 10 0.014315484462442803\n",
      "10 feature 9 0.014251877514646108\n",
      "11 feature 13 0.008777308088652907\n",
      "12 feature 27 0.007272037252327726\n",
      "13 feature 19 0.006489822801093435\n",
      "14 feature 26 0.005379780001187673\n",
      "15 feature 29 0.005211727126572531\n",
      "16 feature 0 0.005094435387287601\n",
      "17 feature 25 0.005042910177314219\n",
      "18 feature 20 0.00403574514661169\n",
      "19 feature 2 0.0031806794338663596\n",
      "20 feature 6 0.0027359858665963245\n",
      "21 feature 23 0.0023035521622330832\n",
      "22 feature 3 0.002242243011274311\n",
      "23 feature 1 0.0021957142498763593\n",
      "24 feature 17 0.0021635380148463464\n",
      "25 feature 8 0.0020766250026381977\n",
      "26 feature 5 0.0018913341760223585\n",
      "27 feature 24 0.0016311450120788528\n",
      "28 feature 4 0.001124762650039781\n",
      "29 feature 7 0.001044672692112758\n",
      "30 feature 16 0.0009664834322050786\n"
     ]
    },
    {
     "data": {
      "image/png": "[encoded data removed]",
      "text/plain": [
       "<Figure size 432x288 with 1 Axes>"
      ]
     },
     "metadata": {
      "needs_background": "light"
     },
     "output_type": "display_data"
    }
   ],
   "source": [
    "indices = np.argsort(std)[::-1]\n",
    "\n",
    "# Print the feature ranking\n",
    "print(\"Feature ranking:\")\n",
    "\n",
    "for i in range(X_train.shape[1]):\n",
    "    print(f'{i+1} feature {indices[i]} {std[indices[i]]}' )\n",
    "\n",
    "# Plot the feature importances of the forest\n",
    "plt.figure()\n",
    "plt.title(\"Feature importances\")\n",
    "plt.bar(range(X_train.shape[1]), std[indices],\n",
    "       color=\"r\", yerr=std[indices], align=\"center\")\n",
    "plt.xticks(range(X_train.shape[1]), indices)\n",
    "plt.xlim([-1, X_train.shape[1]])\n",
    "plt.show()"
   ]
  },
  {
   "cell_type": "code",
   "execution_count": 52,
   "metadata": {},
   "outputs": [
    {
     "name": "stdout",
     "output_type": "stream",
     "text": [
      "0 thighf_std05s 0.11382259983725795\n",
      "1 thigh_mean1s 0.07901203547968652\n",
      "2 thigh_std05s 0.07424010343967988\n",
      "3 trunk_mean1s 0.06869030917985994\n",
      "4 thigh_mean05s 0.06538365195929319\n",
      "5 thigh_max05s 0.05817648819914439\n",
      "6 shank_hf 0.0500957350008727\n",
      "7 thighf_mean1s 0.04882675471447786\n",
      "8 trunk_mean05s 0.04873983189781948\n",
      "9 thighf_max05s 0.03968979412626438\n",
      "10 thighf_min05s 0.03416618462072311\n",
      "11 trunk_max05s 0.03239990794444071\n",
      "12 trunk_std05s 0.03193445411918786\n",
      "13 thighf_mean05s 0.030968205355958168\n",
      "14 thigh_min05s 0.02570744812229148\n",
      "15 shank_hl 0.025340247411519953\n",
      "16 trunk_hf 0.02438025881706018\n",
      "17 trunk_min05s 0.02353760538728766\n",
      "18 shank_v 0.018175402632902012\n",
      "19 thigh_hl 0.016069430769358867\n",
      "20 thigh_hf 0.012096347379413206\n",
      "21 thigh_hf1 0.01057211353057316\n",
      "22 thigh_hf30 0.009883061751691059\n",
      "23 thigh_v30 0.009795370113123099\n",
      "24 trunk_hl 0.008725669743477419\n",
      "25 thigh_v1 0.00851288219853136\n",
      "26 thigh_v 0.007870743357661436\n",
      "27 trunk_hl30 0.0078586911722534\n",
      "28 trunk_v 0.0076962432079799425\n",
      "29 trunk_hl1 0.007632428530209747\n"
     ]
    }
   ],
   "source": [
    "top10=[]\n",
    "top5=[]\n",
    "for index,val in enumerate(np.argsort(m.feature_importances_)[::-1]):\n",
    "    print(index, df.columns[3:33][val],m.feature_importances_[val])\n",
    "    if index<5:\n",
    "        top10.append(df.columns[3:33][val])\n",
    "        top5.append(df.columns[3:33][val])\n",
    "    elif 5<= index <10:\n",
    "        top10.append(df.columns[3:33][val])\n",
    "    "
   ]
  },
  {
   "cell_type": "code",
   "execution_count": 53,
   "metadata": {},
   "outputs": [
    {
     "data": {
      "text/plain": [
       "['thighf_std05s',\n",
       " 'thigh_mean1s',\n",
       " 'thigh_std05s',\n",
       " 'trunk_mean1s',\n",
       " 'thigh_mean05s',\n",
       " 'thigh_max05s',\n",
       " 'shank_hf',\n",
       " 'thighf_mean1s',\n",
       " 'trunk_mean05s',\n",
       " 'thighf_max05s']"
      ]
     },
     "execution_count": 53,
     "metadata": {},
     "output_type": "execute_result"
    }
   ],
   "source": [
    "top10"
   ]
  },
  {
   "cell_type": "code",
   "execution_count": 54,
   "metadata": {},
   "outputs": [
    {
     "data": {
      "text/plain": [
       "['thighf_std05s',\n",
       " 'thigh_mean1s',\n",
       " 'thigh_std05s',\n",
       " 'trunk_mean1s',\n",
       " 'thigh_mean05s']"
      ]
     },
     "execution_count": 54,
     "metadata": {},
     "output_type": "execute_result"
    }
   ],
   "source": [
    "top5"
   ]
  },
  {
   "cell_type": "code",
   "execution_count": 56,
   "metadata": {},
   "outputs": [],
   "source": [
    "df_10feat = df[top10]\n",
    "df_5feat = df[top5]"
   ]
  },
  {
   "cell_type": "code",
   "execution_count": 144,
   "metadata": {},
   "outputs": [],
   "source": [
    "X_train, X_test, y_train, y_test = train_test_split(df_10feat.values, y, test_size=0.20, random_state=0, stratify=y)"
   ]
  },
  {
   "cell_type": "code",
   "execution_count": 57,
   "metadata": {},
   "outputs": [
    {
     "data": {
      "text/plain": [
       "0.978688603665034"
      ]
     },
     "execution_count": 57,
     "metadata": {},
     "output_type": "execute_result"
    }
   ],
   "source": [
    "#Retrain from 10 feat.\n",
    "m = RandomForestClassifier(n_estimators=80, min_samples_leaf=5, max_features=0.5, n_jobs=-1, class_weight=\"balanced\", oob_score=True)\n",
    "m.fit(X_train, y_train)\n",
    "m.score(X_test,y_test)"
   ]
  },
  {
   "cell_type": "code",
   "execution_count": 58,
   "metadata": {},
   "outputs": [],
   "source": [
    "y_hat = m.predict(X_test)"
   ]
  },
  {
   "cell_type": "code",
   "execution_count": 59,
   "metadata": {},
   "outputs": [],
   "source": [
    "y_prob = m.predict_proba(X_test)[:,1]"
   ]
  },
  {
   "cell_type": "code",
   "execution_count": 60,
   "metadata": {},
   "outputs": [
    {
     "data": {
      "text/plain": [
       "0.9769608896411704"
      ]
     },
     "execution_count": 60,
     "metadata": {},
     "output_type": "execute_result"
    }
   ],
   "source": [
    "m.oob_score_"
   ]
  },
  {
   "cell_type": "code",
   "execution_count": 61,
   "metadata": {},
   "outputs": [
    {
     "name": "stdout",
     "output_type": "stream",
     "text": [
      "              precision    recall  f1-score   support\n",
      "\n",
      "         1.0       0.99      0.99      0.99    205890\n",
      "         2.0       0.88      0.90      0.89     22157\n",
      "\n",
      "    accuracy                           0.98    228047\n",
      "   macro avg       0.94      0.94      0.94    228047\n",
      "weighted avg       0.98      0.98      0.98    228047\n",
      "\n",
      " AUC 0.9952836533699378\n"
     ]
    }
   ],
   "source": [
    "report(y_test,y_hat,y_prob)"
   ]
  },
  {
   "cell_type": "code",
   "execution_count": 62,
   "metadata": {},
   "outputs": [
    {
     "data": {
      "text/plain": [
       "array([[203213,   2677],\n",
       "       [  2183,  19974]])"
      ]
     },
     "execution_count": 62,
     "metadata": {},
     "output_type": "execute_result"
    }
   ],
   "source": [
    "confusion_matrix(y_test,y_hat, labels=[1,2])"
   ]
  },
  {
   "cell_type": "code",
   "execution_count": null,
   "metadata": {},
   "outputs": [],
   "source": []
  },
  {
   "cell_type": "code",
   "execution_count": null,
   "metadata": {},
   "outputs": [],
   "source": []
  },
  {
   "cell_type": "code",
   "execution_count": null,
   "metadata": {},
   "outputs": [],
   "source": []
  },
  {
   "cell_type": "markdown",
   "metadata": {},
   "source": [
    "Correlation"
   ]
  },
  {
   "cell_type": "code",
   "execution_count": 63,
   "metadata": {},
   "outputs": [],
   "source": [
    "import scipy\n",
    "from scipy.cluster import hierarchy as hc"
   ]
  },
  {
   "cell_type": "code",
   "execution_count": 65,
   "metadata": {},
   "outputs": [
    {
     "data": {
      "image/png": "[encoded data removed]",
      "text/plain": [
       "<Figure size 1152x720 with 1 Axes>"
      ]
     },
     "metadata": {
      "needs_background": "light"
     },
     "output_type": "display_data"
    }
   ],
   "source": [
    "corr = np.round(scipy.stats.spearmanr(df).correlation, 4)\n",
    "corr_condensed = hc.distance.squareform(1-corr)\n",
    "z = hc.linkage(corr_condensed, method='average')\n",
    "fig = plt.figure(figsize=(16,10))\n",
    "dendrogram = hc.dendrogram(z, labels=df.columns, orientation='left', leaf_font_size=16)\n",
    "plt.show()"
   ]
  },
  {
   "cell_type": "markdown",
   "metadata": {},
   "source": [
    "### Logistic Regression"
   ]
  },
  {
   "cell_type": "code",
   "execution_count": 66,
   "metadata": {},
   "outputs": [],
   "source": [
    "from sklearn.linear_model import LogisticRegression"
   ]
  },
  {
   "cell_type": "code",
   "execution_count": 67,
   "metadata": {},
   "outputs": [],
   "source": [
    "lr = {}\n",
    "params = {\"C\": np.random.uniform(0.1,10,size=100) , \"solver\":[\"lbfgs\", \"liblinear\"]}\n",
    "lr[\"randomcv\"] = RandomizedSearchCV(estimator = LogisticRegression(max_iter=100) ,param_distributions=params,cv=10, n_jobs=-1, verbose=1)"
   ]
  },
  {
   "cell_type": "code",
   "execution_count": 68,
   "metadata": {},
   "outputs": [
    {
     "name": "stdout",
     "output_type": "stream",
     "text": [
      "Fitting 10 folds for each of 10 candidates, totalling 100 fits\n"
     ]
    },
    {
     "name": "stderr",
     "output_type": "stream",
     "text": [
      "[Parallel(n_jobs=-1)]: Using backend LokyBackend with 4 concurrent workers.\n",
      "[Parallel(n_jobs=-1)]: Done  42 tasks      | elapsed:  5.9min\n",
      "[Parallel(n_jobs=-1)]: Done 100 out of 100 | elapsed: 12.6min finished\n"
     ]
    }
   ],
   "source": [
    "lr[\"learn\"] = lr[\"randomcv\"].fit(X_train,y_train)"
   ]
  },
  {
   "cell_type": "code",
   "execution_count": 69,
   "metadata": {},
   "outputs": [],
   "source": [
    "lr[\"focal_params\"] = {\"C\":lr[\"learn\"].best_estimator_.get_params()[\"C\"],\n",
    "                     \"solver\":lr[\"learn\"].best_estimator_.get_params()[\"solver\"]}"
   ]
  },
  {
   "cell_type": "code",
   "execution_count": 70,
   "metadata": {},
   "outputs": [
    {
     "data": {
      "text/plain": [
       "{'C': 9.499187752577063, 'solver': 'liblinear'}"
      ]
     },
     "execution_count": 70,
     "metadata": {},
     "output_type": "execute_result"
    }
   ],
   "source": [
    "lr[\"focal_params\"]"
   ]
  },
  {
   "cell_type": "code",
   "execution_count": 71,
   "metadata": {},
   "outputs": [],
   "source": [
    "lr_fine_tuned = {\"C\":[lr[\"focal_params\"][\"C\"]*i/10. for i in range(1,20)],\n",
    "                \"solver\":[lr[\"focal_params\"][\"solver\"]]}"
   ]
  },
  {
   "cell_type": "code",
   "execution_count": 72,
   "metadata": {},
   "outputs": [],
   "source": [
    "lr[\"gridcv\"] = GridSearchCV(estimator = LogisticRegression() ,param_grid=lr_fine_tuned,cv=10, n_jobs=-1, verbose=3)"
   ]
  },
  {
   "cell_type": "code",
   "execution_count": 73,
   "metadata": {},
   "outputs": [
    {
     "name": "stdout",
     "output_type": "stream",
     "text": [
      "Fitting 10 folds for each of 19 candidates, totalling 190 fits\n"
     ]
    },
    {
     "name": "stderr",
     "output_type": "stream",
     "text": [
      "[Parallel(n_jobs=-1)]: Using backend LokyBackend with 4 concurrent workers.\n",
      "[Parallel(n_jobs=-1)]: Done  24 tasks      | elapsed:  2.9min\n",
      "[Parallel(n_jobs=-1)]: Done 120 tasks      | elapsed: 14.0min\n",
      "[Parallel(n_jobs=-1)]: Done 190 out of 190 | elapsed: 22.1min finished\n"
     ]
    }
   ],
   "source": [
    "lr[\"tuned_model\"] = lr[\"gridcv\"].fit(X_train,y_train)"
   ]
  },
  {
   "cell_type": "code",
   "execution_count": 74,
   "metadata": {},
   "outputs": [],
   "source": [
    "lr[\"train_acc\"] = lr[\"tuned_model\"].best_estimator_.score(X_train,y_train)\n",
    "lr[\"test_acc\"] = lr[\"tuned_model\"].best_estimator_.score(X_test,y_test)\n",
    "lr[\"P(freeze)\"] = lr[\"tuned_model\"].best_estimator_.predict_proba(X_test)[:,1]\n",
    "lr[\"yhat\"] = lr[\"tuned_model\"].best_estimator_.predict(X_test)\n",
    "lr[\"confus_mat\"] = confusion_matrix(y_test,lr[\"yhat\"], labels=[1,2])\n",
    "lr[\"auc\"] = round(roc_auc_score(y_test,lr[\"P(freeze)\"]),2)\n",
    "lr[\"roc\"] = roc_curve(y_test , lr[\"P(freeze)\"], pos_label=2)"
   ]
  },
  {
   "cell_type": "code",
   "execution_count": 75,
   "metadata": {},
   "outputs": [
    {
     "data": {
      "text/plain": [
       "array([[204992,    898],\n",
       "       [ 20839,   1318]])"
      ]
     },
     "execution_count": 75,
     "metadata": {},
     "output_type": "execute_result"
    }
   ],
   "source": [
    "lr['confus_mat']"
   ]
  },
  {
   "cell_type": "code",
   "execution_count": 76,
   "metadata": {},
   "outputs": [
    {
     "data": {
      "text/plain": [
       "0.81"
      ]
     },
     "execution_count": 76,
     "metadata": {},
     "output_type": "execute_result"
    }
   ],
   "source": [
    "lr[\"auc\"]"
   ]
  },
  {
   "cell_type": "code",
   "execution_count": 78,
   "metadata": {},
   "outputs": [
    {
     "name": "stdout",
     "output_type": "stream",
     "text": [
      "              precision    recall  f1-score   support\n",
      "\n",
      "         1.0       0.91      1.00      0.95    205890\n",
      "         2.0       0.59      0.06      0.11     22157\n",
      "\n",
      "    accuracy                           0.90    228047\n",
      "   macro avg       0.75      0.53      0.53    228047\n",
      "weighted avg       0.88      0.90      0.87    228047\n",
      "\n",
      " AUC 0.8078553843451264\n"
     ]
    }
   ],
   "source": [
    "report(y_test,lr['yhat'],lr[\"P(freeze)\"])"
   ]
  },
  {
   "cell_type": "code",
   "execution_count": 79,
   "metadata": {},
   "outputs": [
    {
     "data": {
      "text/plain": [
       "GridSearchCV(cv=10, error_score='raise-deprecating',\n",
       "             estimator=LogisticRegression(C=1.0, class_weight=None, dual=False,\n",
       "                                          fit_intercept=True,\n",
       "                                          intercept_scaling=1, l1_ratio=None,\n",
       "                                          max_iter=100, multi_class='warn',\n",
       "                                          n_jobs=None, penalty='l2',\n",
       "                                          random_state=None, solver='warn',\n",
       "                                          tol=0.0001, verbose=0,\n",
       "                                          warm_start=False),\n",
       "             iid='warn', n_jobs=-1,\n",
       "             param_grid={'C': [0.94991877525770...\n",
       "                               4.7495938762885315, 5.699512651546238,\n",
       "                               6.649431426803945, 7.59935020206165,\n",
       "                               8.549268977319356, 9.499187752577063,\n",
       "                               10.449106527834768, 11.399025303092476,\n",
       "                               12.348944078350183, 13.29886285360789,\n",
       "                               14.248781628865595, 15.1987004041233,\n",
       "                               16.148619179381008, 17.09853795463871,\n",
       "                               18.048456729896422],\n",
       "                         'solver': ['liblinear']},\n",
       "             pre_dispatch='2*n_jobs', refit=True, return_train_score=False,\n",
       "             scoring=None, verbose=3)"
      ]
     },
     "execution_count": 79,
     "metadata": {},
     "output_type": "execute_result"
    }
   ],
   "source": [
    "lr['tuned_model']"
   ]
  },
  {
   "cell_type": "code",
   "execution_count": null,
   "metadata": {},
   "outputs": [],
   "source": []
  },
  {
   "cell_type": "code",
   "execution_count": null,
   "metadata": {},
   "outputs": [],
   "source": []
  },
  {
   "cell_type": "code",
   "execution_count": null,
   "metadata": {},
   "outputs": [],
   "source": []
  },
  {
   "cell_type": "markdown",
   "metadata": {},
   "source": [
    "## Multilayer Perceptron"
   ]
  },
  {
   "cell_type": "code",
   "execution_count": 80,
   "metadata": {},
   "outputs": [],
   "source": [
    "from sklearn.neural_network import MLPClassifier"
   ]
  },
  {
   "cell_type": "code",
   "execution_count": 81,
   "metadata": {},
   "outputs": [],
   "source": [
    "mlp = MLPClassifier(alpha=1e-5,hidden_layer_sizes=(24,36,48,60,30,15,8,), random_state=1, max_iter=250, learning_rate_init=1e-3, verbose=1)"
   ]
  },
  {
   "cell_type": "code",
   "execution_count": 82,
   "metadata": {},
   "outputs": [
    {
     "name": "stdout",
     "output_type": "stream",
     "text": [
      "Iteration 1, loss = 0.20195592\n",
      "Iteration 2, loss = 0.17233669\n",
      "Iteration 3, loss = 0.16399923\n",
      "Iteration 4, loss = 0.15819934\n",
      "Iteration 5, loss = 0.15353953\n",
      "Iteration 6, loss = 0.14937017\n",
      "Iteration 7, loss = 0.14585153\n",
      "Iteration 8, loss = 0.14323245\n",
      "Iteration 9, loss = 0.14052049\n",
      "Iteration 10, loss = 0.13822735\n",
      "Iteration 11, loss = 0.13632909\n",
      "Iteration 12, loss = 0.13475516\n",
      "Iteration 13, loss = 0.13302180\n",
      "Iteration 14, loss = 0.13183263\n",
      "Iteration 15, loss = 0.13034376\n",
      "Iteration 16, loss = 0.12916300\n",
      "Iteration 17, loss = 0.12804869\n",
      "Iteration 18, loss = 0.12703389\n",
      "Iteration 19, loss = 0.12615502\n",
      "Iteration 20, loss = 0.12535890\n",
      "Iteration 21, loss = 0.12434624\n",
      "Iteration 22, loss = 0.12373181\n",
      "Iteration 23, loss = 0.12300026\n",
      "Iteration 24, loss = 0.12210104\n",
      "Iteration 25, loss = 0.12155523\n",
      "Iteration 26, loss = 0.12091712\n",
      "Iteration 27, loss = 0.12037276\n",
      "Iteration 28, loss = 0.11974356\n",
      "Iteration 29, loss = 0.11923188\n",
      "Iteration 30, loss = 0.11859361\n",
      "Iteration 31, loss = 0.11790111\n",
      "Iteration 32, loss = 0.11738226\n",
      "Iteration 33, loss = 0.11710695\n",
      "Iteration 34, loss = 0.11680313\n",
      "Iteration 35, loss = 0.11617078\n",
      "Iteration 36, loss = 0.11569593\n",
      "Iteration 37, loss = 0.11531227\n",
      "Iteration 38, loss = 0.11486803\n",
      "Iteration 39, loss = 0.11458401\n",
      "Iteration 40, loss = 0.11429580\n",
      "Iteration 41, loss = 0.11389730\n",
      "Iteration 42, loss = 0.11349191\n",
      "Iteration 43, loss = 0.11318528\n",
      "Iteration 44, loss = 0.11284082\n",
      "Iteration 45, loss = 0.11259939\n",
      "Iteration 46, loss = 0.11216420\n",
      "Iteration 47, loss = 0.11183658\n",
      "Iteration 48, loss = 0.11149598\n",
      "Iteration 49, loss = 0.11165397\n",
      "Iteration 50, loss = 0.11088122\n",
      "Iteration 51, loss = 0.11072396\n",
      "Iteration 52, loss = 0.11057778\n",
      "Iteration 53, loss = 0.11032009\n",
      "Iteration 54, loss = 0.11012412\n",
      "Iteration 55, loss = 0.10956087\n",
      "Iteration 56, loss = 0.10966645\n",
      "Iteration 57, loss = 0.10923262\n",
      "Iteration 58, loss = 0.10903189\n",
      "Iteration 59, loss = 0.10890528\n",
      "Iteration 60, loss = 0.10845565\n",
      "Iteration 61, loss = 0.10802504\n",
      "Iteration 62, loss = 0.10824653\n",
      "Iteration 63, loss = 0.10805649\n",
      "Iteration 64, loss = 0.10763321\n",
      "Iteration 65, loss = 0.10754047\n",
      "Iteration 66, loss = 0.10730133\n",
      "Iteration 67, loss = 0.10704509\n",
      "Iteration 68, loss = 0.10704183\n",
      "Iteration 69, loss = 0.10679591\n",
      "Iteration 70, loss = 0.10661780\n",
      "Iteration 71, loss = 0.10646272\n",
      "Iteration 72, loss = 0.10615151\n",
      "Iteration 73, loss = 0.10612601\n",
      "Iteration 74, loss = 0.10608025\n",
      "Iteration 75, loss = 0.10577207\n",
      "Iteration 76, loss = 0.10556647\n",
      "Iteration 77, loss = 0.10526281\n",
      "Iteration 78, loss = 0.10529286\n",
      "Iteration 79, loss = 0.10507303\n",
      "Iteration 80, loss = 0.10494850\n",
      "Iteration 81, loss = 0.10473085\n",
      "Iteration 82, loss = 0.10472041\n",
      "Iteration 83, loss = 0.10443697\n",
      "Iteration 84, loss = 0.10432071\n",
      "Iteration 85, loss = 0.10443440\n",
      "Iteration 86, loss = 0.10408521\n",
      "Iteration 87, loss = 0.10394869\n",
      "Iteration 88, loss = 0.10391897\n",
      "Iteration 89, loss = 0.10376144\n",
      "Iteration 90, loss = 0.10366580\n",
      "Iteration 91, loss = 0.10324732\n",
      "Iteration 92, loss = 0.10336687\n",
      "Iteration 93, loss = 0.10321303\n",
      "Iteration 94, loss = 0.10298680\n",
      "Iteration 95, loss = 0.10293377\n",
      "Iteration 96, loss = 0.10270726\n",
      "Iteration 97, loss = 0.10275860\n",
      "Iteration 98, loss = 0.10265956\n",
      "Iteration 99, loss = 0.10235101\n",
      "Iteration 100, loss = 0.10243841\n",
      "Iteration 101, loss = 0.10231000\n",
      "Iteration 102, loss = 0.10216371\n",
      "Iteration 103, loss = 0.10191757\n",
      "Iteration 104, loss = 0.10195681\n",
      "Iteration 105, loss = 0.10188158\n",
      "Iteration 106, loss = 0.10157353\n",
      "Iteration 107, loss = 0.10190806\n",
      "Iteration 108, loss = 0.10145693\n",
      "Iteration 109, loss = 0.10143909\n",
      "Iteration 110, loss = 0.10104980\n",
      "Iteration 111, loss = 0.10119388\n",
      "Iteration 112, loss = 0.10102568\n",
      "Iteration 113, loss = 0.10090113\n",
      "Iteration 114, loss = 0.10082114\n",
      "Iteration 115, loss = 0.10091186\n",
      "Iteration 116, loss = 0.10064432\n",
      "Iteration 117, loss = 0.10056672\n",
      "Iteration 118, loss = 0.10055751\n",
      "Iteration 119, loss = 0.10045587\n",
      "Iteration 120, loss = 0.10012150\n",
      "Iteration 121, loss = 0.10050770\n",
      "Iteration 122, loss = 0.10007836\n",
      "Iteration 123, loss = 0.09997497\n",
      "Iteration 124, loss = 0.09997640\n",
      "Iteration 125, loss = 0.09972234\n",
      "Iteration 126, loss = 0.09985312\n",
      "Iteration 127, loss = 0.09938996\n",
      "Iteration 128, loss = 0.09964313\n",
      "Iteration 129, loss = 0.09943113\n",
      "Iteration 130, loss = 0.09941372\n",
      "Iteration 131, loss = 0.09948052\n",
      "Iteration 132, loss = 0.09931037\n",
      "Iteration 133, loss = 0.09908579\n",
      "Iteration 134, loss = 0.09938220\n",
      "Iteration 135, loss = 0.09895825\n",
      "Iteration 136, loss = inf\n",
      "Iteration 137, loss = 0.09896009\n",
      "Iteration 138, loss = 0.09876276\n",
      "Iteration 139, loss = 0.09901336\n",
      "Iteration 140, loss = 0.09862313\n",
      "Iteration 141, loss = 0.09884497\n",
      "Iteration 142, loss = 0.09864719\n",
      "Iteration 143, loss = 0.09865430\n",
      "Iteration 144, loss = 0.09870667\n",
      "Iteration 145, loss = 0.09849605\n",
      "Iteration 146, loss = 0.09841135\n",
      "Iteration 147, loss = 0.09836982\n",
      "Iteration 148, loss = 0.09831775\n",
      "Iteration 149, loss = 0.09826598\n",
      "Iteration 150, loss = 0.09807460\n",
      "Iteration 151, loss = 0.09803687\n",
      "Iteration 152, loss = 0.09827556\n",
      "Iteration 153, loss = 0.09816090\n",
      "Iteration 154, loss = 0.09794377\n",
      "Iteration 155, loss = 0.09800204\n",
      "Iteration 156, loss = 0.09803317\n",
      "Iteration 157, loss = 0.09789384\n",
      "Iteration 158, loss = 0.09797913\n",
      "Iteration 159, loss = 0.09769879\n",
      "Iteration 160, loss = 0.09759354\n",
      "Iteration 161, loss = 0.09767296\n",
      "Iteration 162, loss = 0.09750796\n",
      "Iteration 163, loss = 0.09743728\n",
      "Iteration 164, loss = 0.09753385\n",
      "Iteration 165, loss = 0.09714208\n",
      "Iteration 166, loss = 0.09759552\n",
      "Iteration 167, loss = 0.09710619\n",
      "Iteration 168, loss = 0.09749644\n",
      "Iteration 169, loss = 0.09722002\n",
      "Iteration 170, loss = 0.09688404\n",
      "Iteration 171, loss = 0.09702243\n",
      "Iteration 172, loss = 0.09705758\n",
      "Iteration 173, loss = 0.09693161\n",
      "Iteration 174, loss = 0.09699254\n",
      "Iteration 175, loss = 0.09702534\n",
      "Iteration 176, loss = 0.09693947\n",
      "Iteration 177, loss = 0.09695366\n",
      "Iteration 178, loss = 0.09665869\n",
      "Iteration 179, loss = 0.09687052\n",
      "Iteration 180, loss = 0.09643572\n",
      "Iteration 181, loss = 0.09658263\n",
      "Iteration 182, loss = 0.09666936\n",
      "Iteration 183, loss = 0.09652586\n",
      "Iteration 184, loss = 0.09647404\n",
      "Iteration 185, loss = 0.09638842\n",
      "Iteration 186, loss = 0.09658361\n",
      "Iteration 187, loss = 0.09648553\n",
      "Iteration 188, loss = 0.09634844\n",
      "Iteration 189, loss = 0.09648267\n",
      "Iteration 190, loss = 0.09626906\n",
      "Iteration 191, loss = 0.09617436\n",
      "Training loss did not improve more than tol=0.000100 for 10 consecutive epochs. Stopping.\n"
     ]
    },
    {
     "data": {
      "text/plain": [
       "MLPClassifier(activation='relu', alpha=1e-05, batch_size='auto', beta_1=0.9,\n",
       "              beta_2=0.999, early_stopping=False, epsilon=1e-08,\n",
       "              hidden_layer_sizes=(24, 36, 48, 60, 30, 15, 8),\n",
       "              learning_rate='constant', learning_rate_init=0.001, max_iter=250,\n",
       "              momentum=0.9, n_iter_no_change=10, nesterovs_momentum=True,\n",
       "              power_t=0.5, random_state=1, shuffle=True, solver='adam',\n",
       "              tol=0.0001, validation_fraction=0.1, verbose=1, warm_start=False)"
      ]
     },
     "execution_count": 82,
     "metadata": {},
     "output_type": "execute_result"
    }
   ],
   "source": [
    "mlp.fit(X_train,y_train)"
   ]
  },
  {
   "cell_type": "code",
   "execution_count": 83,
   "metadata": {},
   "outputs": [],
   "source": [
    "y_hat = mlp.predict(X_test)"
   ]
  },
  {
   "cell_type": "code",
   "execution_count": 84,
   "metadata": {},
   "outputs": [],
   "source": [
    "y_prob = mlp.predict_proba(X_test)[:,1]"
   ]
  },
  {
   "cell_type": "code",
   "execution_count": 85,
   "metadata": {},
   "outputs": [
    {
     "data": {
      "text/plain": [
       "array([[201500,   4390],\n",
       "       [  6175,  15982]])"
      ]
     },
     "execution_count": 85,
     "metadata": {},
     "output_type": "execute_result"
    }
   ],
   "source": [
    "confusion_matrix(y_test,y_hat, labels=[1,2])"
   ]
  },
  {
   "cell_type": "code",
   "execution_count": 86,
   "metadata": {},
   "outputs": [
    {
     "name": "stdout",
     "output_type": "stream",
     "text": [
      "              precision    recall  f1-score   support\n",
      "\n",
      "         1.0       0.97      0.98      0.97    205890\n",
      "         2.0       0.78      0.72      0.75     22157\n",
      "\n",
      "    accuracy                           0.95    228047\n",
      "   macro avg       0.88      0.85      0.86    228047\n",
      "weighted avg       0.95      0.95      0.95    228047\n",
      "\n",
      " AUC 0.9783062416123713\n"
     ]
    }
   ],
   "source": [
    "report(y_test,y_hat,y_prob)"
   ]
  },
  {
   "cell_type": "code",
   "execution_count": null,
   "metadata": {},
   "outputs": [],
   "source": []
  },
  {
   "cell_type": "code",
   "execution_count": 94,
   "metadata": {},
   "outputs": [],
   "source": [
    "#Try Reduce nodes\n",
    "mlp = MLPClassifier(alpha=1e-5,hidden_layer_sizes=(12,16,20,16,12,8,4,), random_state=1, max_iter=250, learning_rate_init=1e-3, verbose=1)"
   ]
  },
  {
   "cell_type": "code",
   "execution_count": 95,
   "metadata": {},
   "outputs": [
    {
     "name": "stdout",
     "output_type": "stream",
     "text": [
      "Iteration 1, loss = 0.21987045\n",
      "Iteration 2, loss = 0.19309360\n",
      "Iteration 3, loss = 0.18529722\n",
      "Iteration 4, loss = 0.18045177\n",
      "Iteration 5, loss = 0.17758865\n",
      "Iteration 6, loss = 0.17570006\n",
      "Iteration 7, loss = 0.17385449\n",
      "Iteration 8, loss = 0.17238504\n",
      "Iteration 9, loss = 0.17142637\n",
      "Iteration 10, loss = 0.17032175\n",
      "Iteration 11, loss = 0.16927879\n",
      "Iteration 12, loss = 0.16836907\n",
      "Iteration 13, loss = 0.16789848\n",
      "Iteration 14, loss = 0.16712094\n",
      "Iteration 15, loss = 0.16658929\n",
      "Iteration 16, loss = 0.16610314\n",
      "Iteration 17, loss = 0.16565553\n",
      "Iteration 18, loss = 0.16521629\n",
      "Iteration 19, loss = 0.16500372\n",
      "Iteration 20, loss = 0.16432740\n",
      "Iteration 21, loss = 0.16402329\n",
      "Iteration 22, loss = 0.16367366\n",
      "Iteration 23, loss = 0.16305888\n",
      "Iteration 24, loss = 0.16282436\n",
      "Iteration 25, loss = 0.16242074\n",
      "Iteration 26, loss = 0.16211201\n",
      "Iteration 27, loss = 0.16175940\n",
      "Iteration 28, loss = 0.16147322\n",
      "Iteration 29, loss = 0.16099987\n",
      "Iteration 30, loss = 0.16071992\n",
      "Iteration 31, loss = 0.16032082\n",
      "Iteration 32, loss = 0.15999041\n",
      "Iteration 33, loss = 0.15957493\n",
      "Iteration 34, loss = 0.15934995\n",
      "Iteration 35, loss = 0.15884606\n",
      "Iteration 36, loss = 0.15841266\n",
      "Iteration 37, loss = 0.15817023\n",
      "Iteration 38, loss = 0.15769981\n",
      "Iteration 39, loss = 0.15733005\n",
      "Iteration 40, loss = 0.15679235\n",
      "Iteration 41, loss = 0.15657529\n",
      "Iteration 42, loss = 0.15615555\n",
      "Iteration 43, loss = 0.15594358\n",
      "Iteration 44, loss = 0.15579816\n",
      "Iteration 45, loss = 0.15535747\n",
      "Iteration 46, loss = 0.15497839\n",
      "Iteration 47, loss = 0.15476537\n",
      "Iteration 48, loss = 0.15441059\n",
      "Iteration 49, loss = 0.15414659\n",
      "Iteration 50, loss = 0.15388748\n",
      "Iteration 51, loss = 0.15371268\n",
      "Iteration 52, loss = 0.15353367\n",
      "Iteration 53, loss = 0.15343705\n",
      "Iteration 54, loss = 0.15315901\n",
      "Iteration 55, loss = 0.15297871\n",
      "Iteration 56, loss = 0.15270816\n",
      "Iteration 57, loss = 0.15260332\n",
      "Iteration 58, loss = 0.15232160\n",
      "Iteration 59, loss = 0.15227564\n",
      "Iteration 60, loss = 0.15207798\n",
      "Iteration 61, loss = 0.15177834\n",
      "Iteration 62, loss = 0.15176244\n",
      "Iteration 63, loss = 0.15139502\n",
      "Iteration 64, loss = 0.15136121\n",
      "Iteration 65, loss = 0.15128173\n",
      "Iteration 66, loss = 0.15112203\n",
      "Iteration 67, loss = 0.15098577\n",
      "Iteration 68, loss = 0.15060911\n",
      "Iteration 69, loss = 0.15049306\n",
      "Iteration 70, loss = 0.15020497\n",
      "Iteration 71, loss = 0.15016126\n",
      "Iteration 72, loss = 0.14988257\n",
      "Iteration 73, loss = 0.14982494\n",
      "Iteration 74, loss = 0.14967543\n",
      "Iteration 75, loss = 0.14955640\n",
      "Iteration 76, loss = 0.14942573\n",
      "Iteration 77, loss = 0.14926045\n",
      "Iteration 78, loss = 0.14914993\n",
      "Iteration 79, loss = 0.14900454\n",
      "Iteration 80, loss = 0.14887971\n",
      "Iteration 81, loss = 0.14878901\n",
      "Iteration 82, loss = 0.14871236\n",
      "Iteration 83, loss = 0.14848082\n",
      "Iteration 84, loss = 0.14841372\n",
      "Iteration 85, loss = 0.14820320\n",
      "Iteration 86, loss = 0.14827202\n",
      "Iteration 87, loss = 0.14800962\n",
      "Iteration 88, loss = 0.14809132\n",
      "Iteration 89, loss = 0.14790766\n",
      "Iteration 90, loss = 0.14780115\n",
      "Iteration 91, loss = 0.14771478\n",
      "Iteration 92, loss = 0.14763366\n",
      "Iteration 93, loss = 0.14761834\n",
      "Iteration 94, loss = 0.14738050\n",
      "Iteration 95, loss = 0.14704117\n",
      "Iteration 96, loss = 0.14719559\n",
      "Iteration 97, loss = 0.14724188\n",
      "Iteration 98, loss = 0.14709855\n",
      "Iteration 99, loss = 0.14693419\n",
      "Iteration 100, loss = 0.14695380\n",
      "Iteration 101, loss = 0.14701477\n",
      "Iteration 102, loss = 0.14688614\n",
      "Iteration 103, loss = 0.14682779\n",
      "Iteration 104, loss = 0.14666818\n",
      "Iteration 105, loss = 0.14664282\n",
      "Iteration 106, loss = 0.14640200\n",
      "Iteration 107, loss = 0.14646565\n",
      "Iteration 108, loss = 0.14639140\n",
      "Iteration 109, loss = 0.14619251\n",
      "Iteration 110, loss = 0.14619894\n",
      "Iteration 111, loss = 0.14613150\n",
      "Iteration 112, loss = 0.14613450\n",
      "Iteration 113, loss = 0.14615174\n",
      "Iteration 114, loss = 0.14620644\n",
      "Iteration 115, loss = 0.14593582\n",
      "Iteration 116, loss = 0.14596378\n",
      "Iteration 117, loss = 0.14598845\n",
      "Iteration 118, loss = 0.14584187\n",
      "Iteration 119, loss = 0.14589906\n",
      "Iteration 120, loss = 0.14589398\n",
      "Iteration 121, loss = 0.14575672\n",
      "Iteration 122, loss = 0.14568325\n",
      "Iteration 123, loss = 0.14571319\n",
      "Iteration 124, loss = 0.14577304\n",
      "Iteration 125, loss = 0.14559238\n",
      "Iteration 126, loss = 0.14546065\n",
      "Iteration 127, loss = 0.14545273\n",
      "Iteration 128, loss = 0.14533843\n",
      "Iteration 129, loss = 0.14530086\n",
      "Iteration 130, loss = 0.14525684\n",
      "Iteration 131, loss = 0.14545116\n",
      "Iteration 132, loss = 0.14515750\n",
      "Iteration 133, loss = 0.14503171\n",
      "Iteration 134, loss = 0.14503500\n",
      "Iteration 135, loss = 0.14513494\n",
      "Iteration 136, loss = 0.14514075\n",
      "Iteration 137, loss = 0.14507220\n",
      "Iteration 138, loss = 0.14501123\n",
      "Iteration 139, loss = 0.14504158\n",
      "Iteration 140, loss = 0.14515144\n",
      "Iteration 141, loss = 0.14482495\n",
      "Iteration 142, loss = 0.14481870\n",
      "Iteration 143, loss = 0.14495386\n",
      "Iteration 144, loss = 0.14486906\n",
      "Iteration 145, loss = 0.14472030\n",
      "Iteration 146, loss = 0.14474498\n",
      "Iteration 147, loss = 0.14468390\n",
      "Iteration 148, loss = 0.14460096\n",
      "Iteration 149, loss = 0.14467528\n",
      "Iteration 150, loss = 0.14470942\n",
      "Iteration 151, loss = 0.14454284\n",
      "Iteration 152, loss = 0.14455987\n",
      "Training loss did not improve more than tol=0.000100 for 10 consecutive epochs. Stopping.\n"
     ]
    },
    {
     "data": {
      "text/plain": [
       "MLPClassifier(activation='relu', alpha=1e-05, batch_size='auto', beta_1=0.9,\n",
       "              beta_2=0.999, early_stopping=False, epsilon=1e-08,\n",
       "              hidden_layer_sizes=(12, 16, 20, 16, 12, 8, 4),\n",
       "              learning_rate='constant', learning_rate_init=0.001, max_iter=250,\n",
       "              momentum=0.9, n_iter_no_change=10, nesterovs_momentum=True,\n",
       "              power_t=0.5, random_state=1, shuffle=True, solver='adam',\n",
       "              tol=0.0001, validation_fraction=0.1, verbose=1, warm_start=False)"
      ]
     },
     "execution_count": 95,
     "metadata": {},
     "output_type": "execute_result"
    }
   ],
   "source": [
    "mlp.fit(X_train,y_train)"
   ]
  },
  {
   "cell_type": "code",
   "execution_count": 96,
   "metadata": {},
   "outputs": [],
   "source": [
    "y_hat = mlp.predict(X_test)"
   ]
  },
  {
   "cell_type": "code",
   "execution_count": 97,
   "metadata": {},
   "outputs": [],
   "source": [
    "y_prob = mlp.predict_proba(X_test)[:,1]"
   ]
  },
  {
   "cell_type": "code",
   "execution_count": 98,
   "metadata": {},
   "outputs": [
    {
     "data": {
      "text/plain": [
       "array([[201284,   4606],\n",
       "       [ 10006,  12151]])"
      ]
     },
     "execution_count": 98,
     "metadata": {},
     "output_type": "execute_result"
    }
   ],
   "source": [
    "confusion_matrix(y_test,y_hat, labels=[1,2])"
   ]
  },
  {
   "cell_type": "code",
   "execution_count": 99,
   "metadata": {},
   "outputs": [
    {
     "name": "stdout",
     "output_type": "stream",
     "text": [
      "              precision    recall  f1-score   support\n",
      "\n",
      "         1.0       0.95      0.98      0.96    205890\n",
      "         2.0       0.73      0.55      0.62     22157\n",
      "\n",
      "    accuracy                           0.94    228047\n",
      "   macro avg       0.84      0.76      0.79    228047\n",
      "weighted avg       0.93      0.94      0.93    228047\n",
      "\n",
      " AUC 0.9583837418279448\n"
     ]
    }
   ],
   "source": [
    "report(y_test,y_hat,y_prob)"
   ]
  },
  {
   "cell_type": "markdown",
   "metadata": {},
   "source": [
    "Didn't get better"
   ]
  },
  {
   "cell_type": "code",
   "execution_count": null,
   "metadata": {},
   "outputs": [],
   "source": []
  },
  {
   "cell_type": "code",
   "execution_count": null,
   "metadata": {},
   "outputs": [],
   "source": []
  },
  {
   "cell_type": "markdown",
   "metadata": {},
   "source": [
    "### EasyEnsembleClassifier"
   ]
  },
  {
   "cell_type": "code",
   "execution_count": 87,
   "metadata": {},
   "outputs": [],
   "source": [
    "from imblearn.ensemble import EasyEnsembleClassifier\n",
    "from sklearn.model_selection import cross_val_score\n",
    "from sklearn.model_selection import RepeatedStratifiedKFold"
   ]
  },
  {
   "cell_type": "code",
   "execution_count": 88,
   "metadata": {},
   "outputs": [],
   "source": [
    "eec = EasyEnsembleClassifier(n_estimators=10, n_jobs=-1, random_state=0, verbose=3)"
   ]
  },
  {
   "cell_type": "code",
   "execution_count": 89,
   "metadata": {},
   "outputs": [
    {
     "name": "stderr",
     "output_type": "stream",
     "text": [
      "[Parallel(n_jobs=4)]: Using backend LokyBackend with 4 concurrent workers.\n",
      "[Parallel(n_jobs=4)]: Done   4 out of   4 | elapsed:  2.5min finished\n"
     ]
    },
    {
     "data": {
      "text/plain": [
       "EasyEnsembleClassifier(base_estimator=None, n_estimators=10, n_jobs=-1,\n",
       "                       random_state=0, replacement=False,\n",
       "                       sampling_strategy='auto', verbose=3, warm_start=False)"
      ]
     },
     "execution_count": 89,
     "metadata": {},
     "output_type": "execute_result"
    }
   ],
   "source": [
    "eec.fit(X_train,y_train)"
   ]
  },
  {
   "cell_type": "code",
   "execution_count": 90,
   "metadata": {},
   "outputs": [
    {
     "name": "stderr",
     "output_type": "stream",
     "text": [
      "[Parallel(n_jobs=4)]: Using backend LokyBackend with 4 concurrent workers.\n",
      "[Parallel(n_jobs=4)]: Done   4 out of   4 | elapsed:   10.5s finished\n"
     ]
    }
   ],
   "source": [
    "y_hat = eec.predict(X_test)"
   ]
  },
  {
   "cell_type": "code",
   "execution_count": 91,
   "metadata": {},
   "outputs": [],
   "source": [
    "y_prob = mlp.predict_proba(X_test)[:,1]"
   ]
  },
  {
   "cell_type": "code",
   "execution_count": 92,
   "metadata": {},
   "outputs": [
    {
     "data": {
      "text/plain": [
       "array([[148333,  57557],\n",
       "       [  2389,  19768]])"
      ]
     },
     "execution_count": 92,
     "metadata": {},
     "output_type": "execute_result"
    }
   ],
   "source": [
    "confusion_matrix(y_test,y_hat, labels=[1,2])"
   ]
  },
  {
   "cell_type": "code",
   "execution_count": 93,
   "metadata": {},
   "outputs": [
    {
     "name": "stdout",
     "output_type": "stream",
     "text": [
      "              precision    recall  f1-score   support\n",
      "\n",
      "         1.0       0.98      0.72      0.83    205890\n",
      "         2.0       0.26      0.89      0.40     22157\n",
      "\n",
      "    accuracy                           0.74    228047\n",
      "   macro avg       0.62      0.81      0.61    228047\n",
      "weighted avg       0.91      0.74      0.79    228047\n",
      "\n",
      " AUC 0.9783062416123713\n"
     ]
    }
   ],
   "source": [
    "report(y_test,y_hat,y_prob)"
   ]
  },
  {
   "cell_type": "code",
   "execution_count": null,
   "metadata": {},
   "outputs": [],
   "source": []
  }
 ],
 "metadata": {
  "kernelspec": {
   "display_name": "Python 3",
   "language": "python",
   "name": "python3"
  },
  "language_info": {
   "codemirror_mode": {
    "name": "ipython",
    "version": 3
   },
   "file_extension": ".py",
   "mimetype": "text/x-python",
   "name": "python",
   "nbconvert_exporter": "python",
   "pygments_lexer": "ipython3",
   "version": "3.7.3"
  }
 },
 "nbformat": 4,
 "nbformat_minor": 2
}
